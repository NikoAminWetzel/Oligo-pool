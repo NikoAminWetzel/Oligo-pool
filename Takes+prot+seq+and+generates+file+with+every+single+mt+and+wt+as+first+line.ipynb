{
 "cells": [
  {
   "cell_type": "code",
   "execution_count": 41,
   "metadata": {},
   "outputs": [],
   "source": [
    "protseq=('')\n",
    "\n",
    "file = open('/Users/na395/Desktop/Python files/sequential_prot_mt.txt','w')\n",
    "\n",
    "file.write(protseq+'\\n')\n",
    "\n",
    "protseqsplit=list(protseq)\n",
    "for x in range(len(protseqsplit)):\n",
    "     for aa in 'ACDEFGHIKLMNPQRSTVWY':\n",
    "            if aa != protseqsplit[x]:\n",
    "                temp = []\n",
    "                temp.extend(protseqsplit)\n",
    "                temp[x] = aa\n",
    "                file.write(''.join(temp)+'\\n')\n",
    "\n",
    "                \n",
    "            \n",
    "file.close()"
   ]
  },
  {
   "cell_type": "code",
   "execution_count": null,
   "metadata": {
    "collapsed": true
   },
   "outputs": [],
   "source": []
  }
 ],
 "metadata": {
  "kernelspec": {
   "display_name": "Python 3",
   "language": "python",
   "name": "python3"
  },
  "language_info": {
   "codemirror_mode": {
    "name": "ipython",
    "version": 3
   },
   "file_extension": ".py",
   "mimetype": "text/x-python",
   "name": "python",
   "nbconvert_exporter": "python",
   "pygments_lexer": "ipython3",
   "version": "3.6.3"
  }
 },
 "nbformat": 4,
 "nbformat_minor": 2
}
